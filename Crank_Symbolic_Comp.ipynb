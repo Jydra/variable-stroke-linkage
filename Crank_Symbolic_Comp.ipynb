{
  "cells": [
    {
      "cell_type": "markdown",
      "metadata": {
        "id": "view-in-github",
        "colab_type": "text"
      },
      "source": [
        "<a href=\"https://colab.research.google.com/github/Jydra/variable-stroke-linkage/blob/main/Crank_Symbolic_Comp.ipynb\" target=\"_parent\"><img src=\"https://colab.research.google.com/assets/colab-badge.svg\" alt=\"Open In Colab\"/></a>"
      ]
    },
    {
      "cell_type": "code",
      "execution_count": 1,
      "metadata": {
        "colab": {
          "base_uri": "https://localhost:8080/"
        },
        "id": "2TgYGTodaElU",
        "outputId": "3d4d7455-464b-49d1-ae7a-e6f63b655c29"
      },
      "outputs": [
        {
          "output_type": "stream",
          "name": "stdout",
          "text": [
            "Downloaded interface.py\n"
          ]
        }
      ],
      "source": [
        "from os.path import basename, exists\n",
        "import math\n",
        "import numpy as np\n",
        "%matplotlib inline\n",
        "import matplotlib.pyplot as plt\n",
        "\n",
        "def download(url):\n",
        "    filename = basename(url)\n",
        "    if not exists(filename):\n",
        "        from urllib.request import urlretrieve\n",
        "        local, _ = urlretrieve(url, filename)\n",
        "        print('Downloaded ' + local)\n",
        "    \n",
        "download(\"https://raw.githubusercontent.com/Jydra/sympy-interface/main/interface.py\")"
      ]
    },
    {
      "cell_type": "code",
      "execution_count": 5,
      "metadata": {
        "colab": {
          "base_uri": "https://localhost:8080/",
          "height": 1000
        },
        "id": "Y0D3HL1y-kRL",
        "outputId": "70a45563-4be9-449c-f9b8-af933fe8af3e"
      },
      "outputs": [
        {
          "output_type": "display_data",
          "data": {
            "text/plain": [
              "<IPython.core.display.Latex object>"
            ],
            "text/latex": "\\text{Step 1: Begin with }"
          },
          "metadata": {}
        },
        {
          "output_type": "stream",
          "name": "stdout",
          "text": [
            "\n",
            "\n"
          ]
        },
        {
          "output_type": "display_data",
          "data": {
            "text/plain": [
              "<IPython.core.display.Latex object>"
            ],
            "text/latex": "l_{2}^{2} = \\left(x_{2} - x_{3}\\right)^{2} + \\left(y_{2} - y_{3}\\right)^{2}"
          },
          "metadata": {}
        },
        {
          "output_type": "stream",
          "name": "stdout",
          "text": [
            "\n",
            "\n",
            "\n"
          ]
        },
        {
          "output_type": "display_data",
          "data": {
            "text/plain": [
              "<IPython.core.display.Latex object>"
            ],
            "text/latex": "\\text{Step 2: Expand the variables: }x_{2}\\text{, }y_{2}\\text{, }x_{3}\\text{, }y_{3}"
          },
          "metadata": {}
        },
        {
          "output_type": "stream",
          "name": "stdout",
          "text": [
            "\n",
            "\n"
          ]
        },
        {
          "output_type": "display_data",
          "data": {
            "text/plain": [
              "<IPython.core.display.Latex object>"
            ],
            "text/latex": "l_{2}^{2} = \\left(l_{1} \\sin{\\left(\\theta_{1} \\right)} - l_{3} \\sin{\\left(\\theta_{3} \\right)} - y_{4}\\right)^{2} + \\left(l_{1} \\cos{\\left(\\theta_{1} \\right)} - l_{3} \\cos{\\left(\\theta_{3} \\right)} - x_{4}\\right)^{2}"
          },
          "metadata": {}
        },
        {
          "output_type": "stream",
          "name": "stdout",
          "text": [
            "\n",
            "\n",
            "\n"
          ]
        },
        {
          "output_type": "display_data",
          "data": {
            "text/plain": [
              "<IPython.core.display.Latex object>"
            ],
            "text/latex": "\\text{Step 3: Expand the variables: }\\theta_{1}\\text{, }x_{4}\\text{, }y_{4}"
          },
          "metadata": {}
        },
        {
          "output_type": "stream",
          "name": "stdout",
          "text": [
            "\n",
            "\n"
          ]
        },
        {
          "output_type": "display_data",
          "data": {
            "text/plain": [
              "<IPython.core.display.Latex object>"
            ],
            "text/latex": "l_{2}^{2} = \\left(- R_{x} + l_{1} \\cos{\\left(\\theta \\right)} - l_{3} \\cos{\\left(\\theta_{3} \\right)}\\right)^{2} + \\left(- R_{y} + l_{1} \\sin{\\left(\\theta \\right)} - l_{3} \\sin{\\left(\\theta_{3} \\right)}\\right)^{2}"
          },
          "metadata": {}
        },
        {
          "output_type": "stream",
          "name": "stdout",
          "text": [
            "\n",
            "\n",
            "\n"
          ]
        },
        {
          "output_type": "display_data",
          "data": {
            "text/plain": [
              "<IPython.core.display.Latex object>"
            ],
            "text/latex": "\\text{Step 4: Expand equation}"
          },
          "metadata": {}
        },
        {
          "output_type": "stream",
          "name": "stdout",
          "text": [
            "\n",
            "\n"
          ]
        },
        {
          "output_type": "display_data",
          "data": {
            "text/plain": [
              "<IPython.core.display.Latex object>"
            ],
            "text/latex": "l_{2}^{2} = R_{x}^{2} - 2 R_{x} l_{1} \\cos{\\left(\\theta \\right)} + 2 R_{x} l_{3} \\cos{\\left(\\theta_{3} \\right)} + R_{y}^{2} - 2 R_{y} l_{1} \\sin{\\left(\\theta \\right)} + 2 R_{y} l_{3} \\sin{\\left(\\theta_{3} \\right)} + l_{1}^{2} \\sin^{2}{\\left(\\theta \\right)} + l_{1}^{2} \\cos^{2}{\\left(\\theta \\right)} - 2 l_{1} l_{3} \\sin{\\left(\\theta \\right)} \\sin{\\left(\\theta_{3} \\right)} - 2 l_{1} l_{3} \\cos{\\left(\\theta \\right)} \\cos{\\left(\\theta_{3} \\right)} + l_{3}^{2} \\sin^{2}{\\left(\\theta_{3} \\right)} + l_{3}^{2} \\cos^{2}{\\left(\\theta_{3} \\right)}"
          },
          "metadata": {}
        },
        {
          "output_type": "stream",
          "name": "stdout",
          "text": [
            "\n",
            "\n",
            "\n"
          ]
        },
        {
          "output_type": "display_data",
          "data": {
            "text/plain": [
              "<IPython.core.display.Latex object>"
            ],
            "text/latex": "\\text{Step 5: Move all terms to LHS}"
          },
          "metadata": {}
        },
        {
          "output_type": "stream",
          "name": "stdout",
          "text": [
            "\n",
            "\n"
          ]
        },
        {
          "output_type": "display_data",
          "data": {
            "text/plain": [
              "<IPython.core.display.Latex object>"
            ],
            "text/latex": "- R_{x}^{2} + 2 R_{x} l_{1} \\cos{\\left(\\theta \\right)} - 2 R_{x} l_{3} \\cos{\\left(\\theta_{3} \\right)} - R_{y}^{2} + 2 R_{y} l_{1} \\sin{\\left(\\theta \\right)} - 2 R_{y} l_{3} \\sin{\\left(\\theta_{3} \\right)} - l_{1}^{2} \\sin^{2}{\\left(\\theta \\right)} - l_{1}^{2} \\cos^{2}{\\left(\\theta \\right)} + 2 l_{1} l_{3} \\sin{\\left(\\theta \\right)} \\sin{\\left(\\theta_{3} \\right)} + 2 l_{1} l_{3} \\cos{\\left(\\theta \\right)} \\cos{\\left(\\theta_{3} \\right)} + l_{2}^{2} - l_{3}^{2} \\sin^{2}{\\left(\\theta_{3} \\right)} - l_{3}^{2} \\cos^{2}{\\left(\\theta_{3} \\right)} = 0"
          },
          "metadata": {}
        },
        {
          "output_type": "stream",
          "name": "stdout",
          "text": [
            "\n",
            "\n",
            "\n"
          ]
        },
        {
          "output_type": "display_data",
          "data": {
            "text/plain": [
              "<IPython.core.display.Latex object>"
            ],
            "text/latex": "\\text{Step 6: Apply the Pythagorean identity}"
          },
          "metadata": {}
        },
        {
          "output_type": "stream",
          "name": "stdout",
          "text": [
            "\n",
            "\n"
          ]
        },
        {
          "output_type": "display_data",
          "data": {
            "text/plain": [
              "<IPython.core.display.Latex object>"
            ],
            "text/latex": "- R_{x}^{2} + 2 R_{x} l_{1} \\cos{\\left(\\theta \\right)} - 2 R_{x} l_{3} \\cos{\\left(\\theta_{3} \\right)} - R_{y}^{2} + 2 R_{y} l_{1} \\sin{\\left(\\theta \\right)} - 2 R_{y} l_{3} \\sin{\\left(\\theta_{3} \\right)} - l_{1}^{2} \\left(1 - \\cos^{2}{\\left(\\theta \\right)}\\right) - l_{1}^{2} \\cos^{2}{\\left(\\theta \\right)} + 2 l_{1} l_{3} \\sin{\\left(\\theta \\right)} \\sin{\\left(\\theta_{3} \\right)} + 2 l_{1} l_{3} \\cos{\\left(\\theta \\right)} \\cos{\\left(\\theta_{3} \\right)} + l_{2}^{2} - l_{3}^{2} \\left(1 - \\cos^{2}{\\left(\\theta_{3} \\right)}\\right) - l_{3}^{2} \\cos^{2}{\\left(\\theta_{3} \\right)} = 0"
          },
          "metadata": {}
        },
        {
          "output_type": "stream",
          "name": "stdout",
          "text": [
            "\n",
            "\n",
            "\n"
          ]
        },
        {
          "output_type": "display_data",
          "data": {
            "text/plain": [
              "<IPython.core.display.Latex object>"
            ],
            "text/latex": "\\text{Step 7: Expand equation}"
          },
          "metadata": {}
        },
        {
          "output_type": "stream",
          "name": "stdout",
          "text": [
            "\n",
            "\n"
          ]
        },
        {
          "output_type": "display_data",
          "data": {
            "text/plain": [
              "<IPython.core.display.Latex object>"
            ],
            "text/latex": "- R_{x}^{2} + 2 R_{x} l_{1} \\cos{\\left(\\theta \\right)} - 2 R_{x} l_{3} \\cos{\\left(\\theta_{3} \\right)} - R_{y}^{2} + 2 R_{y} l_{1} \\sin{\\left(\\theta \\right)} - 2 R_{y} l_{3} \\sin{\\left(\\theta_{3} \\right)} - l_{1}^{2} + 2 l_{1} l_{3} \\sin{\\left(\\theta \\right)} \\sin{\\left(\\theta_{3} \\right)} + 2 l_{1} l_{3} \\cos{\\left(\\theta \\right)} \\cos{\\left(\\theta_{3} \\right)} + l_{2}^{2} - l_{3}^{2} = 0"
          },
          "metadata": {}
        },
        {
          "output_type": "stream",
          "name": "stdout",
          "text": [
            "\n",
            "\n",
            "\n"
          ]
        },
        {
          "output_type": "display_data",
          "data": {
            "text/plain": [
              "<IPython.core.display.Latex object>"
            ],
            "text/latex": "\\text{Step 8: Collect all }\\sin{\\left(\\theta_{3} \\right)} \\text{ on LHS}"
          },
          "metadata": {}
        },
        {
          "output_type": "stream",
          "name": "stdout",
          "text": [
            "\n",
            "\n"
          ]
        },
        {
          "output_type": "display_data",
          "data": {
            "text/plain": [
              "<IPython.core.display.Latex object>"
            ],
            "text/latex": "- R_{x}^{2} + 2 R_{x} l_{1} \\cos{\\left(\\theta \\right)} - 2 R_{x} l_{3} \\cos{\\left(\\theta_{3} \\right)} - R_{y}^{2} + 2 R_{y} l_{1} \\sin{\\left(\\theta \\right)} - l_{1}^{2} + 2 l_{1} l_{3} \\cos{\\left(\\theta \\right)} \\cos{\\left(\\theta_{3} \\right)} + l_{2}^{2} - l_{3}^{2} + \\left(- 2 R_{y} l_{3} + 2 l_{1} l_{3} \\sin{\\left(\\theta \\right)}\\right) \\sin{\\left(\\theta_{3} \\right)} = 0"
          },
          "metadata": {}
        },
        {
          "output_type": "stream",
          "name": "stdout",
          "text": [
            "\n",
            "\n",
            "\n"
          ]
        },
        {
          "output_type": "display_data",
          "data": {
            "text/plain": [
              "<IPython.core.display.Latex object>"
            ],
            "text/latex": "\\text{Step 9: Collect all }\\cos{\\left(\\theta_{3} \\right)} \\text{ on LHS}"
          },
          "metadata": {}
        },
        {
          "output_type": "stream",
          "name": "stdout",
          "text": [
            "\n",
            "\n"
          ]
        },
        {
          "output_type": "display_data",
          "data": {
            "text/plain": [
              "<IPython.core.display.Latex object>"
            ],
            "text/latex": "- R_{x}^{2} + 2 R_{x} l_{1} \\cos{\\left(\\theta \\right)} - R_{y}^{2} + 2 R_{y} l_{1} \\sin{\\left(\\theta \\right)} - l_{1}^{2} + l_{2}^{2} - l_{3}^{2} + \\left(- 2 R_{x} l_{3} + 2 l_{1} l_{3} \\cos{\\left(\\theta \\right)}\\right) \\cos{\\left(\\theta_{3} \\right)} + \\left(- 2 R_{y} l_{3} + 2 l_{1} l_{3} \\sin{\\left(\\theta \\right)}\\right) \\sin{\\left(\\theta_{3} \\right)} = 0"
          },
          "metadata": {}
        },
        {
          "output_type": "stream",
          "name": "stdout",
          "text": [
            "\n",
            "\n",
            "\n"
          ]
        },
        {
          "output_type": "display_data",
          "data": {
            "text/plain": [
              "<IPython.core.display.Latex object>"
            ],
            "text/latex": "\\text{Step 10: Collect into the variables: }x_{1}\\text{, }x_{2}\\text{, }x_{3}"
          },
          "metadata": {}
        },
        {
          "output_type": "stream",
          "name": "stdout",
          "text": [
            "\n",
            "\n"
          ]
        },
        {
          "output_type": "display_data",
          "data": {
            "text/plain": [
              "<IPython.core.display.Latex object>"
            ],
            "text/latex": "- x_{1} - x_{2} \\cos{\\left(\\theta_{3} \\right)} - x_{3} \\sin{\\left(\\theta_{3} \\right)} = 0"
          },
          "metadata": {}
        },
        {
          "output_type": "stream",
          "name": "stdout",
          "text": [
            "\n",
            "\n",
            "\n"
          ]
        },
        {
          "output_type": "display_data",
          "data": {
            "text/plain": [
              "<IPython.core.display.Latex object>"
            ],
            "text/latex": "\\text{Step 11: Solve equation for } \\theta_{3} \\text{ and select solution \\#}2"
          },
          "metadata": {}
        },
        {
          "output_type": "stream",
          "name": "stdout",
          "text": [
            "\n",
            "\n"
          ]
        },
        {
          "output_type": "display_data",
          "data": {
            "text/plain": [
              "<IPython.core.display.Latex object>"
            ],
            "text/latex": "\\theta_{3} = - 2 \\operatorname{atan}{\\left(\\frac{x_{3} + \\sqrt{- x_{1}^{2} + x_{2}^{2} + x_{3}^{2}}}{x_{1} - x_{2}} \\right)}"
          },
          "metadata": {}
        },
        {
          "output_type": "stream",
          "name": "stdout",
          "text": [
            "\n",
            "\n",
            "\n"
          ]
        },
        {
          "output_type": "display_data",
          "data": {
            "text/plain": [
              "<IPython.core.display.Latex object>"
            ],
            "text/latex": "\\text{Step 12: Expand the variables: }x_{1}\\text{, }x_{2}\\text{, }x_{3}"
          },
          "metadata": {}
        },
        {
          "output_type": "stream",
          "name": "stdout",
          "text": [
            "\n",
            "\n"
          ]
        },
        {
          "output_type": "display_data",
          "data": {
            "text/plain": [
              "<IPython.core.display.Latex object>"
            ],
            "text/latex": "\\theta_{3} = - 2 \\operatorname{atan}{\\left(\\frac{2 R_{y} l_{3} - 2 l_{1} l_{3} \\sin{\\left(\\theta \\right)} + \\sqrt{\\left(2 R_{x} l_{3} - 2 l_{1} l_{3} \\cos{\\left(\\theta \\right)}\\right)^{2} + \\left(2 R_{y} l_{3} - 2 l_{1} l_{3} \\sin{\\left(\\theta \\right)}\\right)^{2} - \\left(R_{x}^{2} - 2 R_{x} l_{1} \\cos{\\left(\\theta \\right)} + R_{y}^{2} - 2 R_{y} l_{1} \\sin{\\left(\\theta \\right)} + l_{1}^{2} - l_{2}^{2} + l_{3}^{2}\\right)^{2}}}{R_{x}^{2} - 2 R_{x} l_{1} \\cos{\\left(\\theta \\right)} - 2 R_{x} l_{3} + R_{y}^{2} - 2 R_{y} l_{1} \\sin{\\left(\\theta \\right)} + l_{1}^{2} + 2 l_{1} l_{3} \\cos{\\left(\\theta \\right)} - l_{2}^{2} + l_{3}^{2}} \\right)}"
          },
          "metadata": {}
        },
        {
          "output_type": "stream",
          "name": "stdout",
          "text": [
            "\n",
            "\n",
            "\n"
          ]
        },
        {
          "output_type": "display_data",
          "data": {
            "text/plain": [
              "<IPython.core.display.Latex object>"
            ],
            "text/latex": "\\text{Step 13: Expand the variables: }R_{x}\\text{, }R_{y}"
          },
          "metadata": {}
        },
        {
          "output_type": "stream",
          "name": "stdout",
          "text": [
            "\n",
            "\n"
          ]
        },
        {
          "output_type": "display_data",
          "data": {
            "text/plain": [
              "<IPython.core.display.Latex object>"
            ],
            "text/latex": "\\theta_{3} = - 2 \\operatorname{atan}{\\left(\\frac{- 2 l_{1} l_{3} \\sin{\\left(\\theta \\right)} + 2 l_{3} \\left(C_{y} + l_{3} \\sin{\\left(\\phi \\right)}\\right) + \\sqrt{\\left(- 2 l_{1} l_{3} \\sin{\\left(\\theta \\right)} + 2 l_{3} \\left(C_{y} + l_{3} \\sin{\\left(\\phi \\right)}\\right)\\right)^{2} + \\left(- 2 l_{1} l_{3} \\cos{\\left(\\theta \\right)} + 2 l_{3} \\left(C_{x} + l_{3} \\cos{\\left(\\phi \\right)}\\right)\\right)^{2} - \\left(l_{1}^{2} - 2 l_{1} \\left(C_{x} + l_{3} \\cos{\\left(\\phi \\right)}\\right) \\cos{\\left(\\theta \\right)} - 2 l_{1} \\left(C_{y} + l_{3} \\sin{\\left(\\phi \\right)}\\right) \\sin{\\left(\\theta \\right)} - l_{2}^{2} + l_{3}^{2} + \\left(C_{x} + l_{3} \\cos{\\left(\\phi \\right)}\\right)^{2} + \\left(C_{y} + l_{3} \\sin{\\left(\\phi \\right)}\\right)^{2}\\right)^{2}}}{l_{1}^{2} + 2 l_{1} l_{3} \\cos{\\left(\\theta \\right)} - 2 l_{1} \\left(C_{x} + l_{3} \\cos{\\left(\\phi \\right)}\\right) \\cos{\\left(\\theta \\right)} - 2 l_{1} \\left(C_{y} + l_{3} \\sin{\\left(\\phi \\right)}\\right) \\sin{\\left(\\theta \\right)} - l_{2}^{2} + l_{3}^{2} - 2 l_{3} \\left(C_{x} + l_{3} \\cos{\\left(\\phi \\right)}\\right) + \\left(C_{x} + l_{3} \\cos{\\left(\\phi \\right)}\\right)^{2} + \\left(C_{y} + l_{3} \\sin{\\left(\\phi \\right)}\\right)^{2}} \\right)}"
          },
          "metadata": {}
        },
        {
          "output_type": "stream",
          "name": "stdout",
          "text": [
            "\n",
            "\n",
            "\n"
          ]
        },
        {
          "output_type": "display_data",
          "data": {
            "text/plain": [
              "<IPython.core.display.Latex object>"
            ],
            "text/latex": "\\text{Step 14: Set the variables: }C_{x}=0.11698\\text{, }C_{y}=0.2378\\text{, }l_{1}=0.045\\text{, }l_{2}=0.22002\\text{, }l_{3}=0.2"
          },
          "metadata": {}
        },
        {
          "output_type": "stream",
          "name": "stdout",
          "text": [
            "\n",
            "\n"
          ]
        },
        {
          "output_type": "display_data",
          "data": {
            "text/plain": [
              "<IPython.core.display.Latex object>"
            ],
            "text/latex": "\\theta_{3} = - 2 \\operatorname{atan}{\\left(\\frac{0.09512 \\sqrt{\\left(- 0.189234650967199 \\sin{\\left(\\theta \\right)} + 0.841042893187553 \\sin{\\left(\\phi \\right)} + 1\\right)^{2} + 0.707353148181289 \\left(- 0.225 \\cos{\\left(\\theta \\right)} + \\cos{\\left(\\phi \\right)} + 0.5849\\right)^{2} - 0.895243828166944 \\left(- \\left(0.2 \\sin{\\left(\\phi \\right)} + 0.2378\\right) \\sin{\\left(\\theta \\right)} + 0.628320444444444 \\left(0.841042893187553 \\sin{\\left(\\phi \\right)} + 1\\right)^{2} - \\left(0.2 \\cos{\\left(\\phi \\right)} + 0.11698\\right) \\cos{\\left(\\theta \\right)} + 0.444444444444445 \\left(\\cos{\\left(\\phi \\right)} + 0.5849\\right)^{2} - 0.0709086248573332\\right)^{2}} - 0.018 \\sin{\\left(\\theta \\right)} + 0.08 \\sin{\\left(\\phi \\right)} + 0.09512}{- 0.09 \\left(0.2 \\sin{\\left(\\phi \\right)} + 0.2378\\right) \\sin{\\left(\\theta \\right)} + 0.05654884 \\left(0.841042893187553 \\sin{\\left(\\phi \\right)} + 1\\right)^{2} - 0.09 \\left(0.2 \\cos{\\left(\\phi \\right)} + 0.11698\\right) \\cos{\\left(\\theta \\right)} + 0.04 \\left(\\cos{\\left(\\phi \\right)} + 0.5849\\right)^{2} + 0.018 \\cos{\\left(\\theta \\right)} - 0.08 \\cos{\\left(\\phi \\right)} - 0.05317377623716} \\right)}"
          },
          "metadata": {}
        },
        {
          "output_type": "stream",
          "name": "stdout",
          "text": [
            "\n",
            "\n",
            "\n"
          ]
        }
      ],
      "source": [
        "##SYMBOLIC INPUTS\n",
        "from interface import *\n",
        "from sympy import *\n",
        "theta1, theta2, theta3, theta4, x1, x2, x3, x4, y1, y2, y3, y4, l1, l2, l3, l4, Rx, Ry, Cx, Cy, theta, u, phi = symbols(r'\\theta_1 \\theta_2 \\theta_3 \\theta_4 x_1 x_2 x_3 x_4 y_1 y_2 y_3 y_4 l_1 l_2 l_3 l_4 R_x R_y C_x C_y \\theta u phi')\n",
        "#link 1 (l = l1, ang = theta1, nodes 1,2): input link\n",
        "#link 2 (l = l2, ang = theta2, nodes 2,3): connecting link\n",
        "#link 3 (l = l3, ang = theta3, nodes 3,4): adjustment link\n",
        "#link 4 (l = l4, ang = theta4, nodes 3,5): output link\n",
        "#R (Rx, Ry): fixed link 3 position along adjustment slot\n",
        "#C (Cx, Cy): center of adjustment slot radius\n",
        "#theta: parameterized driving link\n",
        "#phi: Angle from C to R\n",
        "\n",
        "#@title ## Solver Output Control\n",
        "verbose_mode = True #@param {type:\"boolean\"}\n",
        "verbose_display_precision = 5 #@param {type:\"integer\"}\n",
        "\n",
        "#Dictionaries for Values, Relations, and Temporary Substitutions\n",
        "#Keys have valid LaTeX formatting so that they an easily be formatted when passed directly from exec_op() into verbose()\n",
        "#The keys for variables should be identical to the formatting of their counterparts in the symbol declarations (line 2) if they exist\n",
        "#I am lazy and do not want to add a separate formatting entry into the op structure\n",
        "vset = dict()\n",
        "rln = dict()\n",
        "tmp = dict()\n",
        "\n",
        "#Set Values\n",
        "vset[x1] = Eq(x1, 0)\n",
        "vset[y1] = Eq(y1, 0)\n",
        "vset[Cx] = Eq(Cx, 0.11698)\n",
        "vset[Cy] = Eq(Cy, 0.2378)\n",
        "vset[l1] = Eq(l1, 0.045)\n",
        "vset[l2] = Eq(l2, 0.2200154)\n",
        "vset[l3] = Eq(l3, 0.2)\n",
        "\n",
        "#Relations\n",
        "rln[theta1] = Eq(theta1, theta)\n",
        "rln[Rx] = Eq(Rx, Cx+l3*cos(phi))\n",
        "rln[Ry] = Eq(Ry, Cy+l3*sin(phi))\n",
        "rln[x2] = Eq(x2, l1*cos(theta1))\n",
        "rln[y2] = Eq(y2, l1*sin(theta1))\n",
        "rln[x3] = Eq(x3, x4 + l3*cos(theta3))\n",
        "rln[y3] = Eq(y3, y4 + l3*sin(theta3))\n",
        "rln[x4] = Eq(x4, Rx)\n",
        "rln[y4] = Eq(y4, Ry)\n",
        "rln[l2**2] = Eq(l2**2, (x2 - x3)**2 + (y2 - y3)**2)\n",
        "\n",
        "#Temporary substitutions\n",
        "tmp[x1] = Eq(x1, Rx**2 + Ry**2 + l1**2-l2**2+l3**2-2*Rx*l1*cos(theta)-2*Ry*l1*sin(theta))\n",
        "tmp[x2] = Eq(x2, 2*Rx*l3-2*l1*l3*cos(theta))\n",
        "tmp[x3] = Eq(x3, 2*Ry*l3-2*l1*l3*sin(theta))\n",
        "\n",
        "#Initial equation\n",
        "eq = rln[l2**2]\n",
        "\n",
        "#All operations\n",
        "op = [\n",
        "    [\"init\"],                                             #Begin\n",
        "    [\"var_expand\",rln,[x2, y2, x3, y3]],      #expand relations from x2, y2, x3, y3\n",
        "    [\"var_expand\",rln,[theta1, x4, y4]],       #expand relations from theta1, x4, y4\n",
        "    [\"expand\"],                                           #expand equation\n",
        "    [\"to_lhs\"],                                           #move all terms to lhs\n",
        "    [\"pythag_id\"],                                        #apply pythagorean identity\n",
        "    [\"expand\"],                                           #expand equation\n",
        "    [\"collect_lhs\",sin(theta3)],                          #collect all sin(theta3) on lhs\n",
        "    [\"collect_lhs\",cos(theta3)],                          #collect all cos(theta3) on lhs\n",
        "    [\"var_collect\",tmp,[x1, x2, x3]],            #collect temp into x1, x2, x3\n",
        "    [\"solve\",theta3, 1],                                  #solve equation for theta3, select 2nd solution\n",
        "    [\"var_expand\",tmp,[x1, x2, x3]],             #expand temp from x1, x2, x3\n",
        "    [\"var_expand\",rln,[Rx, Ry]],                    #expand relations from Rx, Ry\n",
        "    [\"var_set\",vset,[Cx, Cy, l1, l2, l3]]  #expand values from Cx, Cy, l1, l2, l3\n",
        "]\n",
        "\n",
        "for i in range(len(op)):\n",
        "  eq = exec_op(i,op,eq, verbose_mode, verbose_display_precision)\n",
        "\n",
        "#Lambdify\n",
        "t3 = lambdify([phi, theta],eq.rhs)"
      ]
    },
    {
      "cell_type": "code",
      "execution_count": 25,
      "metadata": {
        "colab": {
          "base_uri": "https://localhost:8080/",
          "height": 431,
          "referenced_widgets": [
            "0ce8ef201ac54f3ca58c4e638e753fe0",
            "2c79b597575b4cdab53744bc8a557b2c",
            "4278f38e54df4664bce36b333dbb4f00",
            "a3a01bab56a440db83df502c63df714a",
            "40280d8fd5ec45209f8e089c0df2b694",
            "5e8a1ec0c435450e83e4a8ab681de611",
            "c50a9212d85c459aa7585037f25c1fc7",
            "082a45a24abc4a6a9d86b4079e285555",
            "cbf2ea7ff38748b5976bea282d0ec297",
            "57a46a5fc91f423da43bc725fb2255d6"
          ]
        },
        "id": "Obyrs5cSwaUy",
        "outputId": "99054e8b-45d5-45b8-fbd9-180ce42e8486"
      },
      "outputs": [
        {
          "output_type": "display_data",
          "data": {
            "text/plain": [
              "interactive(children=(FloatSlider(value=-64.88, description='phi', layout=Layout(width='600px'), max=-25.12, m…"
            ],
            "application/vnd.jupyter.widget-view+json": {
              "version_major": 2,
              "version_minor": 0,
              "model_id": "0ce8ef201ac54f3ca58c4e638e753fe0"
            }
          },
          "metadata": {}
        }
      ],
      "source": [
        "##VISUALIZATION\n",
        "%matplotlib inline\n",
        "from ipywidgets import Layout, interact, interactive, FloatSlider, IntSlider\n",
        "import ipywidgets as widgets\n",
        "\n",
        "def f2(phi, theta):\n",
        "  plt.figure(figsize=(6, 6))\n",
        "  x1 = 0\n",
        "  y1 = 0\n",
        "  x2 = 0.045*math.cos(math.radians(theta))\n",
        "  y2 = 0.045*math.sin(math.radians(theta))\n",
        "  x4 = 0.11698 + 0.2*math.cos(math.radians(phi))\n",
        "  y4 = 0.2378 + 0.2*math.sin(math.radians(phi))\n",
        "  x3 = x4 + 0.2*math.cos((t3(math.radians(phi),math.radians(theta)) % math.radians(360)))\n",
        "  y3 = y4 + 0.2*math.sin((t3(math.radians(phi),math.radians(theta)) % math.radians(360)))\n",
        "\n",
        "  l1x, l1y = [x1, x2], [y1, y2] \n",
        "  l2x, l2y = [x2, x3], [y2, y3] \n",
        "  l3x, l3y = [x3, x4], [y3, y4] \n",
        "  l4x, l4y = [x3,(x3+(0.2**2-(0.215-y3)**2)**0.5)], [y3,0.215]\n",
        "  #Optional 80mm ruler\n",
        "  #cx, cy = [0.23,0.31],[0.215, 0.215]\n",
        "  #plt.plot(cx, cy)\n",
        "  plt.plot(l1x, l1y, color = 'black', lw = 3)\n",
        "  plt.plot(l2x, l2y, color = 'black', lw = 3)\n",
        "  plt.plot(l3x, l3y, color = 'black', lw = 3)\n",
        "  plt.plot(l4x, l4y, color = 'black', lw = 3)\n",
        "  plt.xlim(-0.05, 0.35)\n",
        "  plt.ylim(-0.05, 0.35)\n",
        "\n",
        "\n",
        "  ##Helper Elements\n",
        "  #C\n",
        "  plt.plot(0.11698, 0.2378, marker = \"o\", color = 'red')\n",
        "  plt.gca().annotate('Slot R Center', xy=(0.055, 0.27), fontsize=10, rotation = 0)\n",
        "  #C to node 4\n",
        "  plt.plot([0.11698, x4], [0.2378, y4], color = 'green', lw = 1)\n",
        "  #horizontal at C\n",
        "  plt.plot([0.11698, 0.30], [0.2378, 0.2378], color = 'green', lw = 1)\n",
        "  #horizontal at node 1\n",
        "  plt.plot([0,0.045],[0,0], color = 'green', lw = 1)\n",
        "  #Slot\n",
        "  arc1_angles = np.linspace(math.radians(-64.88), math.radians(-25.12), 20)\n",
        "  arc1_xs = 0.11698 + 0.2 * np.cos(arc1_angles)\n",
        "  arc1_ys = 0.2378 + 0.2 * np.sin(arc1_angles)    \n",
        "  plt.plot(arc1_xs, arc1_ys, color = 'red', lw = 1)\n",
        "  plt.gca().annotate('Slot', xy=(0.26, 0.07), fontsize=10, rotation = 45)\n",
        "  #phi\n",
        "  arc2_angles = np.linspace(math.radians(phi), math.radians(0), 20)\n",
        "  arc2_xs = 0.11698 + 0.01 * np.cos(arc2_angles)\n",
        "  arc2_ys = 0.2378 + 0.01 * np.sin(arc2_angles)\n",
        "  plt.plot(arc2_xs, arc2_ys, color = 'blue', lw = 1)\n",
        "  plt.gca().annotate('ϕ', xy=(0.12, 0.245), fontsize=10, rotation = 0)\n",
        "  #theta\n",
        "  arc3_angles = np.linspace(math.radians(0), math.radians(theta), 20)\n",
        "  arc3_xs = 0.0075 * np.cos(arc3_angles)\n",
        "  arc3_ys = 0.0075 * np.sin(arc3_angles)\n",
        "  plt.plot(arc3_xs, arc3_ys, color = 'blue', lw = 1)\n",
        "  plt.gca().annotate('θ', xy=(0.005, 0.015), fontsize=10, rotation = 0)\n",
        "\n",
        "  plt.gca().set_aspect(\"equal\")\n",
        "  plt.show()\n",
        "\n",
        "interactive_plot = interactive(f2, phi=FloatSlider(value = -64.88, min = -64.88, max = -25.12, step = 0.01, layout=Layout(width='600px')), theta=IntSlider(min = 0, max = 359, step = 1, layout=Layout(width='600px')))\n",
        "output = interactive_plot.children[-1]\n",
        "output.layout.height = '350px'\n",
        "interactive_plot"
      ]
    }
  ],
  "metadata": {
    "colab": {
      "provenance": [],
      "authorship_tag": "ABX9TyPfw3DYtGk+O4Uh5lwxdRqU",
      "include_colab_link": true
    },
    "kernelspec": {
      "display_name": "Python 3",
      "name": "python3"
    },
    "language_info": {
      "name": "python"
    },
    "widgets": {
      "application/vnd.jupyter.widget-state+json": {
        "0ce8ef201ac54f3ca58c4e638e753fe0": {
          "model_module": "@jupyter-widgets/controls",
          "model_name": "VBoxModel",
          "model_module_version": "1.5.0",
          "state": {
            "_dom_classes": [
              "widget-interact"
            ],
            "_model_module": "@jupyter-widgets/controls",
            "_model_module_version": "1.5.0",
            "_model_name": "VBoxModel",
            "_view_count": null,
            "_view_module": "@jupyter-widgets/controls",
            "_view_module_version": "1.5.0",
            "_view_name": "VBoxView",
            "box_style": "",
            "children": [
              "IPY_MODEL_2c79b597575b4cdab53744bc8a557b2c",
              "IPY_MODEL_4278f38e54df4664bce36b333dbb4f00",
              "IPY_MODEL_a3a01bab56a440db83df502c63df714a"
            ],
            "layout": "IPY_MODEL_40280d8fd5ec45209f8e089c0df2b694"
          }
        },
        "2c79b597575b4cdab53744bc8a557b2c": {
          "model_module": "@jupyter-widgets/controls",
          "model_name": "FloatSliderModel",
          "model_module_version": "1.5.0",
          "state": {
            "_dom_classes": [],
            "_model_module": "@jupyter-widgets/controls",
            "_model_module_version": "1.5.0",
            "_model_name": "FloatSliderModel",
            "_view_count": null,
            "_view_module": "@jupyter-widgets/controls",
            "_view_module_version": "1.5.0",
            "_view_name": "FloatSliderView",
            "continuous_update": true,
            "description": "phi",
            "description_tooltip": null,
            "disabled": false,
            "layout": "IPY_MODEL_5e8a1ec0c435450e83e4a8ab681de611",
            "max": -25.12,
            "min": -64.88,
            "orientation": "horizontal",
            "readout": true,
            "readout_format": ".2f",
            "step": 0.01,
            "style": "IPY_MODEL_c50a9212d85c459aa7585037f25c1fc7",
            "value": -64.88
          }
        },
        "4278f38e54df4664bce36b333dbb4f00": {
          "model_module": "@jupyter-widgets/controls",
          "model_name": "IntSliderModel",
          "model_module_version": "1.5.0",
          "state": {
            "_dom_classes": [],
            "_model_module": "@jupyter-widgets/controls",
            "_model_module_version": "1.5.0",
            "_model_name": "IntSliderModel",
            "_view_count": null,
            "_view_module": "@jupyter-widgets/controls",
            "_view_module_version": "1.5.0",
            "_view_name": "IntSliderView",
            "continuous_update": true,
            "description": "theta",
            "description_tooltip": null,
            "disabled": false,
            "layout": "IPY_MODEL_082a45a24abc4a6a9d86b4079e285555",
            "max": 359,
            "min": 0,
            "orientation": "horizontal",
            "readout": true,
            "readout_format": "d",
            "step": 1,
            "style": "IPY_MODEL_cbf2ea7ff38748b5976bea282d0ec297",
            "value": 0
          }
        },
        "a3a01bab56a440db83df502c63df714a": {
          "model_module": "@jupyter-widgets/output",
          "model_name": "OutputModel",
          "model_module_version": "1.0.0",
          "state": {
            "_dom_classes": [],
            "_model_module": "@jupyter-widgets/output",
            "_model_module_version": "1.0.0",
            "_model_name": "OutputModel",
            "_view_count": null,
            "_view_module": "@jupyter-widgets/output",
            "_view_module_version": "1.0.0",
            "_view_name": "OutputView",
            "layout": "IPY_MODEL_57a46a5fc91f423da43bc725fb2255d6",
            "msg_id": "",
            "outputs": [
              {
                "output_type": "display_data",
                "data": {
                  "text/plain": "<Figure size 432x432 with 1 Axes>",
                  "image/png": "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\n"
                },
                "metadata": {
                  "needs_background": "light"
                }
              }
            ]
          }
        },
        "40280d8fd5ec45209f8e089c0df2b694": {
          "model_module": "@jupyter-widgets/base",
          "model_name": "LayoutModel",
          "model_module_version": "1.2.0",
          "state": {
            "_model_module": "@jupyter-widgets/base",
            "_model_module_version": "1.2.0",
            "_model_name": "LayoutModel",
            "_view_count": null,
            "_view_module": "@jupyter-widgets/base",
            "_view_module_version": "1.2.0",
            "_view_name": "LayoutView",
            "align_content": null,
            "align_items": null,
            "align_self": null,
            "border": null,
            "bottom": null,
            "display": null,
            "flex": null,
            "flex_flow": null,
            "grid_area": null,
            "grid_auto_columns": null,
            "grid_auto_flow": null,
            "grid_auto_rows": null,
            "grid_column": null,
            "grid_gap": null,
            "grid_row": null,
            "grid_template_areas": null,
            "grid_template_columns": null,
            "grid_template_rows": null,
            "height": null,
            "justify_content": null,
            "justify_items": null,
            "left": null,
            "margin": null,
            "max_height": null,
            "max_width": null,
            "min_height": null,
            "min_width": null,
            "object_fit": null,
            "object_position": null,
            "order": null,
            "overflow": null,
            "overflow_x": null,
            "overflow_y": null,
            "padding": null,
            "right": null,
            "top": null,
            "visibility": null,
            "width": null
          }
        },
        "5e8a1ec0c435450e83e4a8ab681de611": {
          "model_module": "@jupyter-widgets/base",
          "model_name": "LayoutModel",
          "model_module_version": "1.2.0",
          "state": {
            "_model_module": "@jupyter-widgets/base",
            "_model_module_version": "1.2.0",
            "_model_name": "LayoutModel",
            "_view_count": null,
            "_view_module": "@jupyter-widgets/base",
            "_view_module_version": "1.2.0",
            "_view_name": "LayoutView",
            "align_content": null,
            "align_items": null,
            "align_self": null,
            "border": null,
            "bottom": null,
            "display": null,
            "flex": null,
            "flex_flow": null,
            "grid_area": null,
            "grid_auto_columns": null,
            "grid_auto_flow": null,
            "grid_auto_rows": null,
            "grid_column": null,
            "grid_gap": null,
            "grid_row": null,
            "grid_template_areas": null,
            "grid_template_columns": null,
            "grid_template_rows": null,
            "height": null,
            "justify_content": null,
            "justify_items": null,
            "left": null,
            "margin": null,
            "max_height": null,
            "max_width": null,
            "min_height": null,
            "min_width": null,
            "object_fit": null,
            "object_position": null,
            "order": null,
            "overflow": null,
            "overflow_x": null,
            "overflow_y": null,
            "padding": null,
            "right": null,
            "top": null,
            "visibility": null,
            "width": "600px"
          }
        },
        "c50a9212d85c459aa7585037f25c1fc7": {
          "model_module": "@jupyter-widgets/controls",
          "model_name": "SliderStyleModel",
          "model_module_version": "1.5.0",
          "state": {
            "_model_module": "@jupyter-widgets/controls",
            "_model_module_version": "1.5.0",
            "_model_name": "SliderStyleModel",
            "_view_count": null,
            "_view_module": "@jupyter-widgets/base",
            "_view_module_version": "1.2.0",
            "_view_name": "StyleView",
            "description_width": "",
            "handle_color": null
          }
        },
        "082a45a24abc4a6a9d86b4079e285555": {
          "model_module": "@jupyter-widgets/base",
          "model_name": "LayoutModel",
          "model_module_version": "1.2.0",
          "state": {
            "_model_module": "@jupyter-widgets/base",
            "_model_module_version": "1.2.0",
            "_model_name": "LayoutModel",
            "_view_count": null,
            "_view_module": "@jupyter-widgets/base",
            "_view_module_version": "1.2.0",
            "_view_name": "LayoutView",
            "align_content": null,
            "align_items": null,
            "align_self": null,
            "border": null,
            "bottom": null,
            "display": null,
            "flex": null,
            "flex_flow": null,
            "grid_area": null,
            "grid_auto_columns": null,
            "grid_auto_flow": null,
            "grid_auto_rows": null,
            "grid_column": null,
            "grid_gap": null,
            "grid_row": null,
            "grid_template_areas": null,
            "grid_template_columns": null,
            "grid_template_rows": null,
            "height": null,
            "justify_content": null,
            "justify_items": null,
            "left": null,
            "margin": null,
            "max_height": null,
            "max_width": null,
            "min_height": null,
            "min_width": null,
            "object_fit": null,
            "object_position": null,
            "order": null,
            "overflow": null,
            "overflow_x": null,
            "overflow_y": null,
            "padding": null,
            "right": null,
            "top": null,
            "visibility": null,
            "width": "600px"
          }
        },
        "cbf2ea7ff38748b5976bea282d0ec297": {
          "model_module": "@jupyter-widgets/controls",
          "model_name": "SliderStyleModel",
          "model_module_version": "1.5.0",
          "state": {
            "_model_module": "@jupyter-widgets/controls",
            "_model_module_version": "1.5.0",
            "_model_name": "SliderStyleModel",
            "_view_count": null,
            "_view_module": "@jupyter-widgets/base",
            "_view_module_version": "1.2.0",
            "_view_name": "StyleView",
            "description_width": "",
            "handle_color": null
          }
        },
        "57a46a5fc91f423da43bc725fb2255d6": {
          "model_module": "@jupyter-widgets/base",
          "model_name": "LayoutModel",
          "model_module_version": "1.2.0",
          "state": {
            "_model_module": "@jupyter-widgets/base",
            "_model_module_version": "1.2.0",
            "_model_name": "LayoutModel",
            "_view_count": null,
            "_view_module": "@jupyter-widgets/base",
            "_view_module_version": "1.2.0",
            "_view_name": "LayoutView",
            "align_content": null,
            "align_items": null,
            "align_self": null,
            "border": null,
            "bottom": null,
            "display": null,
            "flex": null,
            "flex_flow": null,
            "grid_area": null,
            "grid_auto_columns": null,
            "grid_auto_flow": null,
            "grid_auto_rows": null,
            "grid_column": null,
            "grid_gap": null,
            "grid_row": null,
            "grid_template_areas": null,
            "grid_template_columns": null,
            "grid_template_rows": null,
            "height": "350px",
            "justify_content": null,
            "justify_items": null,
            "left": null,
            "margin": null,
            "max_height": null,
            "max_width": null,
            "min_height": null,
            "min_width": null,
            "object_fit": null,
            "object_position": null,
            "order": null,
            "overflow": null,
            "overflow_x": null,
            "overflow_y": null,
            "padding": null,
            "right": null,
            "top": null,
            "visibility": null,
            "width": null
          }
        }
      }
    }
  },
  "nbformat": 4,
  "nbformat_minor": 0
}